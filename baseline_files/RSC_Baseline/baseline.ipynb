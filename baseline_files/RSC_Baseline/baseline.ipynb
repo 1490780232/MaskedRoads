{
 "metadata": {
  "language_info": {
   "codemirror_mode": {
    "name": "ipython",
    "version": 3
   },
   "file_extension": ".py",
   "mimetype": "text/x-python",
   "name": "python",
   "nbconvert_exporter": "python",
   "pygments_lexer": "ipython3",
   "version": "3.7.3-final"
  },
  "orig_nbformat": 2,
  "kernelspec": {
   "name": "python3",
   "language": "python",
   "display_name": "Python 3"
  }
 },
 "nbformat": 4,
 "nbformat_minor": 2,
 "cells": [
  {
   "source": [
    "# 引用部分"
   ],
   "cell_type": "markdown",
   "metadata": {}
  },
  {
   "cell_type": "code",
   "execution_count": 1,
   "metadata": {},
   "outputs": [
    {
     "ename": "ModuleNotFoundError",
     "evalue": "No module named 'moxing'",
     "output_type": "error",
     "traceback": [
      "\u001B[0;31m---------------------------------------------------------------------------\u001B[0m",
      "\u001B[0;31mModuleNotFoundError\u001B[0m                       Traceback (most recent call last)",
      "\u001B[0;32m<ipython-input-1-7abc6c298f75>\u001B[0m in \u001B[0;36m<module>\u001B[0;34m\u001B[0m\n\u001B[1;32m      1\u001B[0m \u001B[0;32mfrom\u001B[0m \u001B[0munet\u001B[0m \u001B[0;32mimport\u001B[0m \u001B[0mUNet\u001B[0m\u001B[0;34m\u001B[0m\u001B[0;34m\u001B[0m\u001B[0m\n\u001B[0;32m----> 2\u001B[0;31m \u001B[0;32mimport\u001B[0m \u001B[0mutile\u001B[0m\u001B[0;34m.\u001B[0m\u001B[0mdeeplearning\u001B[0m \u001B[0;32mas\u001B[0m \u001B[0mdl\u001B[0m\u001B[0;34m\u001B[0m\u001B[0;34m\u001B[0m\u001B[0m\n\u001B[0m\u001B[1;32m      3\u001B[0m \u001B[0;32mimport\u001B[0m \u001B[0mos\u001B[0m\u001B[0;34m\u001B[0m\u001B[0;34m\u001B[0m\u001B[0m\n\u001B[1;32m      4\u001B[0m \u001B[0;32mimport\u001B[0m \u001B[0mnumpy\u001B[0m \u001B[0;32mas\u001B[0m \u001B[0mnp\u001B[0m\u001B[0;34m\u001B[0m\u001B[0;34m\u001B[0m\u001B[0m\n\u001B[1;32m      5\u001B[0m \u001B[0;32mimport\u001B[0m \u001B[0mtorch\u001B[0m\u001B[0;34m\u001B[0m\u001B[0;34m\u001B[0m\u001B[0m\n",
      "\u001B[0;32m~/Projects/Competition/MaskedRoads/baseline_files/RSC_Baseline/utile/deeplearning.py\u001B[0m in \u001B[0;36m<module>\u001B[0;34m\u001B[0m\n\u001B[1;32m      7\u001B[0m \u001B[0;32mfrom\u001B[0m \u001B[0mtqdm\u001B[0m \u001B[0;32mimport\u001B[0m \u001B[0mtqdm\u001B[0m\u001B[0;34m\u001B[0m\u001B[0;34m\u001B[0m\u001B[0m\n\u001B[1;32m      8\u001B[0m \u001B[0;32mimport\u001B[0m \u001B[0mrandom\u001B[0m\u001B[0;34m\u001B[0m\u001B[0;34m\u001B[0m\u001B[0m\n\u001B[0;32m----> 9\u001B[0;31m \u001B[0;32mimport\u001B[0m \u001B[0mmoxing\u001B[0m \u001B[0;32mas\u001B[0m \u001B[0mmox\u001B[0m\u001B[0;34m\u001B[0m\u001B[0;34m\u001B[0m\u001B[0m\n\u001B[0m\u001B[1;32m     10\u001B[0m \u001B[0;32mimport\u001B[0m \u001B[0mlogging\u001B[0m\u001B[0;34m\u001B[0m\u001B[0;34m\u001B[0m\u001B[0m\n\u001B[1;32m     11\u001B[0m \u001B[0;32mfrom\u001B[0m \u001B[0mglob\u001B[0m \u001B[0;32mimport\u001B[0m \u001B[0mglob\u001B[0m\u001B[0;34m\u001B[0m\u001B[0;34m\u001B[0m\u001B[0m\n",
      "\u001B[0;31mModuleNotFoundError\u001B[0m: No module named 'moxing'"
     ]
    }
   ],
   "source": [
    "from unet import UNet\n",
    "import utile.deeplearning as dl\n",
    "import os\n",
    "import numpy as np\n",
    "import torch\n",
    "from PIL import Image\n",
    "Image.MAX_IMAGE_PIXELS = 1000000000000000\n",
    "os.environ[\"CUDA_DEVICE_ORDER\"]=\"PCI_BUS_ID\"   # see issue #152\n",
    "os.environ[\"CUDA_VISIBLE_DEVICES\"]=\"0\"\n",
    "device = torch.device(\"cuda\" if torch.cuda.is_available() else \"cpu\")"
   ]
  },
  {
   "source": [
    "# 指定路径，构建数据集"
   ],
   "cell_type": "markdown",
   "metadata": {}
  },
  {
   "cell_type": "code",
   "execution_count": 2,
   "metadata": {},
   "outputs": [
    {
     "ename": "NameError",
     "evalue": "name 'os' is not defined",
     "output_type": "error",
     "traceback": [
      "\u001B[0;31m---------------------------------------------------------------------------\u001B[0m",
      "\u001B[0;31mNameError\u001B[0m                                 Traceback (most recent call last)",
      "\u001B[0;32m<ipython-input-2-664d25abc6ef>\u001B[0m in \u001B[0;36m<module>\u001B[0;34m\u001B[0m\n\u001B[1;32m      1\u001B[0m \u001B[0mdata_dir\u001B[0m \u001B[0;34m=\u001B[0m \u001B[0;34m\"/home/ma-user/work/RSC/data/\"\u001B[0m\u001B[0;34m\u001B[0m\u001B[0;34m\u001B[0m\u001B[0m\n\u001B[0;32m----> 2\u001B[0;31m \u001B[0mtrain_imgs_dir\u001B[0m \u001B[0;34m=\u001B[0m \u001B[0mos\u001B[0m\u001B[0;34m.\u001B[0m\u001B[0mpath\u001B[0m\u001B[0;34m.\u001B[0m\u001B[0mjoin\u001B[0m\u001B[0;34m(\u001B[0m\u001B[0mdata_dir\u001B[0m\u001B[0;34m,\u001B[0m \u001B[0;34m\"train/images/\"\u001B[0m\u001B[0;34m)\u001B[0m\u001B[0;34m\u001B[0m\u001B[0;34m\u001B[0m\u001B[0m\n\u001B[0m\u001B[1;32m      3\u001B[0m \u001B[0mval_imgs_dir\u001B[0m \u001B[0;34m=\u001B[0m \u001B[0mos\u001B[0m\u001B[0;34m.\u001B[0m\u001B[0mpath\u001B[0m\u001B[0;34m.\u001B[0m\u001B[0mjoin\u001B[0m\u001B[0;34m(\u001B[0m\u001B[0mdata_dir\u001B[0m\u001B[0;34m,\u001B[0m \u001B[0;34m\"val/images/\"\u001B[0m\u001B[0;34m)\u001B[0m\u001B[0;34m\u001B[0m\u001B[0;34m\u001B[0m\u001B[0m\n\u001B[1;32m      4\u001B[0m \u001B[0mtrain_labels_dir\u001B[0m \u001B[0;34m=\u001B[0m \u001B[0mos\u001B[0m\u001B[0;34m.\u001B[0m\u001B[0mpath\u001B[0m\u001B[0;34m.\u001B[0m\u001B[0mjoin\u001B[0m\u001B[0;34m(\u001B[0m\u001B[0mdata_dir\u001B[0m\u001B[0;34m,\u001B[0m \u001B[0;34m\"train/labels/\"\u001B[0m\u001B[0;34m)\u001B[0m\u001B[0;34m\u001B[0m\u001B[0;34m\u001B[0m\u001B[0m\n\u001B[1;32m      5\u001B[0m \u001B[0mval_labels_dir\u001B[0m \u001B[0;34m=\u001B[0m \u001B[0mos\u001B[0m\u001B[0;34m.\u001B[0m\u001B[0mpath\u001B[0m\u001B[0;34m.\u001B[0m\u001B[0mjoin\u001B[0m\u001B[0;34m(\u001B[0m\u001B[0mdata_dir\u001B[0m\u001B[0;34m,\u001B[0m \u001B[0;34m\"val/labels/\"\u001B[0m\u001B[0;34m)\u001B[0m\u001B[0;34m\u001B[0m\u001B[0;34m\u001B[0m\u001B[0m\n",
      "\u001B[0;31mNameError\u001B[0m: name 'os' is not defined"
     ]
    }
   ],
   "source": [
    "data_dir = \"/home/ma-user/work/RSC/data/\"\n",
    "train_imgs_dir = os.path.join(data_dir, \"train/images/\")\n",
    "val_imgs_dir = os.path.join(data_dir, \"val/images/\")\n",
    "train_labels_dir = os.path.join(data_dir, \"train/labels/\")\n",
    "val_labels_dir = os.path.join(data_dir, \"val/labels/\")\n",
    "train_data = dl.RSCDataset(train_imgs_dir, train_labels_dir)\n",
    "valid_data = dl.RSCDataset(val_imgs_dir, val_labels_dir)\n",
    "checkpoint_dir = os.path.join(\"/home/ma-user/work/RSC/ckpt/\", 'unet/') # 模型保存路径\n",
    "if not os.path.exists(checkpoint_dir): os.makedirs(checkpoint_dir)"
   ]
  },
  {
   "source": [
    "# 模型，参数，训练"
   ],
   "cell_type": "markdown",
   "metadata": {
    "tags": []
   }
  },
  {
   "cell_type": "code",
   "execution_count": null,
   "metadata": {},
   "outputs": [],
   "source": [
    "model = UNet(3, 2).to(device)\n",
    "# 参数设置\n",
    "param = {}\n",
    "param['epochs'] = 41       # 训练轮数\n",
    "param['batch_size'] = 4   # 批大小\n",
    "param['lr'] = 2e-2         # 学习率\n",
    "param['gamma'] = 0.9       # 学习率衰减系数\n",
    "param['step_size'] = 5     # 学习率衰减间隔\n",
    "param['momentum'] = 0.9    #动量\n",
    "param['weight_decay'] = 0. #权重衰减\n",
    "param['checkpoint_dir'] = checkpoint_dir\n",
    "param['disp_inter'] = 1 # 显示间隔\n",
    "param['save_inter'] = 1 # 保存间隔\n",
    "# 训练\n",
    "best_model, model = dl.train_net(param, model, train_data, valid_data)"
   ]
  },
  {
   "source": [
    "# 在obs中生成提交目录"
   ],
   "cell_type": "markdown",
   "metadata": {}
  },
  {
   "cell_type": "code",
   "execution_count": null,
   "metadata": {},
   "outputs": [],
   "source": [
    "import moxing as mox\n",
    "mox.file.copy_parallel('/home/ma-user/work/RSC/RSC_Baseline/unet/', 'obs://obs-2020hwcc-baseline/submission/model/unet/')\n",
    "mox.file.copy_parallel('/home/ma-user/work/RSC/ckpt/unet/checkpoint-best.pth', 'obs://obs-2020hwcc-baseline/submission/model/model_best.pth')\n",
    "mox.file.copy_parallel('/home/ma-user/work/RSC/RSC_Baseline/subs/config.json', 'obs://obs-2020hwcc-baseline/submission/model/config.json')\n",
    "mox.file.copy_parallel('/home/ma-user/work/RSC/RSC_Baseline/subs/customize_service.py', 'obs://obs-2020hwcc-baseline/submission/model/customize_service.py')"
   ]
  }
 ]
}